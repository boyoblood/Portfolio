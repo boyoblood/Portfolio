{
 "cells": [
  {
   "cell_type": "markdown",
   "id": "a545b9db",
   "metadata": {},
   "source": [
    "# Исследование истории TED-конференций"
   ]
  },
  {
   "cell_type": "markdown",
   "id": "9f475887",
   "metadata": {},
   "source": [
    "## Описание проекта\n",
    "TED (от англ. technology, education, design — «технологии, образование, дизайн») — некоммерческий фонд, который проводит популярные конференции. На них выступают специалисты из разных областей и читают лекции на актуальные социальные, культурные и научные темы.\n",
    "\n",
    "В разное время на TED-конференциях выступали математик Бенуа Мандельброт, теоретик искусственного интеллекта Марвин Минский, спортсменка Дана Ньяд и основатель Google Ларри Пейдж. В истории TED также были неоднозначные и даже скандальные выступления. Например, в 2010 году на конференции выступил Рэнди Пауэлл с рассказом о псевдонаучной «вихревой математике», а в 2014 году в конференции TEDMED участвовала Элизабет Холмс — основательница печально известного стартапа Theranos.\n",
    "\n",
    "В этом проекте я исследую историю TED-конференций с помощью Tableau.\n",
    "\n",
    "## Цель проекта\n",
    "Исследование данных о TED-конференциях по разным аспектам, формирование выводов на основе анализа данных.\n",
    "\n",
    "## План\n",
    "- **Шаг 1.** Загрузка и изучение данные\n",
    "- **Шаг 2.** Построение дашборда «История выступлений»\n",
    "- **Шаг 3.** Создание дашборда «Тематики выступлений»\n",
    "- **Шаг 4.** Создание дашборда «Авторы выступлений»\n",
    "- **Шаг 5.** Создание дашборда на свободную тему\n",
    "- **Шаг 6.** Создание презентации\n",
    "\n",
    "## Визуализации в Tableau\n",
    "Ссылка: <https://public.tableau.com/app/profile/ilya.samoylov/viz/TED-_16944647925970/TED-?publish=yes>"
   ]
  }
 ],
 "metadata": {
  "kernelspec": {
   "display_name": "Python 3 (ipykernel)",
   "language": "python",
   "name": "python3"
  },
  "language_info": {
   "codemirror_mode": {
    "name": "ipython",
    "version": 3
   },
   "file_extension": ".py",
   "mimetype": "text/x-python",
   "name": "python",
   "nbconvert_exporter": "python",
   "pygments_lexer": "ipython3",
   "version": "3.10.9"
  },
  "toc": {
   "base_numbering": 1,
   "nav_menu": {},
   "number_sections": true,
   "sideBar": true,
   "skip_h1_title": true,
   "title_cell": "Table of Contents",
   "title_sidebar": "Contents",
   "toc_cell": false,
   "toc_position": {},
   "toc_section_display": true,
   "toc_window_display": false
  }
 },
 "nbformat": 4,
 "nbformat_minor": 5
}
